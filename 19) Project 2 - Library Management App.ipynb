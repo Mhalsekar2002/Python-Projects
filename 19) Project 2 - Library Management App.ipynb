{
 "cells": [
  {
   "cell_type": "markdown",
   "id": "cddc31c7-69d2-4585-bd8b-7781222203f9",
   "metadata": {},
   "source": [
    "#In this project, we will create a Library Management Application which will have the following functionalities,\n",
    "* Fetch all the available books in the library\n",
    "* Add new books\n",
    "* Keep a track of borrowed books\n",
    "* Update the details based on the books returned\n",
    "\n",
    "#Imp Concept\n",
    "* We will be using all the major Python programming concepts such as lists, dictionaries, strings, loops, conditionals, and more.\n",
    "* With that, we will also try to implement the concepts we learned in the previous sections such as File Handling and Object-Oriented Programming.\n",
    "* The project flow would be quite similar to our previous project, but the major focus of the project is to implement Object-Oriented Programming."
   ]
  },
  {
   "cell_type": "markdown",
   "id": "8395d76c-3d80-4907-bbd8-c66b731f5a2b",
   "metadata": {},
   "source": [
    "## Project Flow\n",
    "* Let's have a look at how the flow of our project would look like,\n",
    "The very first step from the user's point of view would be to display the menu of the library management application.\n",
    "#Following would be the main menu options -\n",
    "1. Display Books\n",
    "2. Lend a Book\n",
    "3. Add a Book\n",
    "4. Return a Book\n",
    "* Depending on the choice entered, we would need to perform the operation and return the details to the output screen.\n",
    "* The above process has to be done repeatedly until the user quits.\n",
    "* Thus, it will be a simple yet amazing command- line program as a small library management software."
   ]
  },
  {
   "cell_type": "markdown",
   "id": "4629a7dc-923b-451e-967c-e6875b49bec9",
   "metadata": {},
   "source": [
    "# 1)Library class\n",
    "* Let's create a library class that will be responsible for the creation of the library object.\n",
    "* When we talk about a class, we have to consider the attributes that it will need for the dynamic object creation and to implement other functionalities.\n",
    "* Talking about the library management software, at the most basic level, it should have the name of the library and the list of books available.\n",
    "* Thus, let's create a library class with an _ _init_ _ that will have the library name and the list of the books in the library.\n",
    "* Note that, since we are creating these attributes in the_init_, at the time of object creation, we will need to pass these two values."
   ]
  },
  {
   "cell_type": "code",
   "execution_count": 26,
   "id": "d397eac0-c93a-49f7-8f8f-65893151820d",
   "metadata": {},
   "outputs": [],
   "source": [
    "#Below is the code for same\n",
    "class Library:\n",
    "    def _init_(self, bookslist, name):\n",
    "        self.booksList = bookslist\n",
    "        self.name = name"
   ]
  },
  {
   "cell_type": "markdown",
   "id": "d77a4d84-5a42-46aa-b328-1427844e90b3",
   "metadata": {},
   "source": [
    "#Let's have a look at the menu of the application,\n",
    "1. Fetch all the available books in the library\n",
    "2. Add new books\n",
    "3. Keep a track of borrowed books\n",
    "4. Update the details based on the books returned\n",
    "* Talking about the first two points here, we can implement them by manipulating and accessing the book list that we will pass to our object.\n",
    "* But, for the other two functionalities, we will need a structure that will help us store and keep track of the details of borrowed books.\n",
    "* Since, we have two things here, the book name and the lender name which are directly associated with each other, what kind of data structure can we use?\n",
    "* Try guessing it before moving on to the next screen."
   ]
  },
  {
   "cell_type": "markdown",
   "id": "ecb79e8f-0a38-45a3-ac20-89c9443b7be8",
   "metadata": {},
   "source": [
    "## Lender Dictionary\n",
    "* A dictionary will act as a book lender database.Thus, let's create an empty dictionary in the init itself so that we can manipulate it later.\n",
    "* Below is the updated code for the same,\n",
    "* Note that, we have not mentioned this dictionary in the parameters of init since we don't want to pass it at the time of object creation.\n",
    "* We simply need to generate an empty dictionary whenever an object is created."
   ]
  },
  {
   "cell_type": "code",
   "execution_count": 30,
   "id": "4e0c99c1-2635-4fa3-8bbe-06f050263050",
   "metadata": {},
   "outputs": [],
   "source": [
    "class Library:\n",
    "    def _init__(self, bookslist, name):\n",
    "        self.booksList = bookslist\n",
    "        self.name = name\n",
    "        self.lendDict = {}"
   ]
  },
  {
   "cell_type": "markdown",
   "id": "cf29ba73-27c9-4a1c-bd2a-03007bbd6368",
   "metadata": {},
   "source": [
    "# 2)Adding Functionalities\n",
    "#Since our Library class is ready, let's create the required methods in it. For each functionality, we will have a different method as shown below,\n",
    "* Fetch all the available books in the library - displayBooks()\n",
    "* Add new books - addBook()\n",
    "* Keep a track of borrowed books - lendBook()\n",
    "* Update the details based on the books returned - returnBook()"
   ]
  },
  {
   "cell_type": "markdown",
   "id": "541be8c8-0282-4c5e-8d3f-8241e9758619",
   "metadata": {},
   "source": [
    "**Creating display Books() method**\n",
    "* In the main menu, we have an option called Display Books. The main aim of this option will be to fetch the names of all the books available in the library.\n",
    "* The list of books will be passed at the time of object creation.\n",
    "* Since we have already defined an attribute for it in the constructor, we can just loop through the list and print the names of all the books available one by one."
   ]
  },
  {
   "cell_type": "code",
   "execution_count": 67,
   "id": "3f959b7a-07ad-4f83-9ab0-3a182ede26af",
   "metadata": {},
   "outputs": [],
   "source": [
    "def displayBooks (self):\n",
    "    print(f'We have following books in our library: {self.name}')\n",
    "    for book in self.booksList:\n",
    "        print(book)"
   ]
  },
  {
   "cell_type": "markdown",
   "id": "ab0a2ff8-98e9-4f08-bdd2-b98ca50eb4a6",
   "metadata": {},
   "source": [
    "**Above code Explanation**\n",
    "* We simply defined a method named displayBooks() which does not accept any parameters.\n",
    "* Inside this method, we have a print statement that will print the name of the library (for this we have used the Fstrings).\n",
    "* If your OOP concepts are clear, you know that we can use the 'self' keyword to access the attributes.\n",
    "* Finally, we loop through the book list and print the names of the book.\n",
    "* 'f' contains expression inside braces.The expressions are replaced with their values."
   ]
  },
  {
   "cell_type": "markdown",
   "id": "2d50d816-1526-4cfe-b533-6571cc1a3ee6",
   "metadata": {},
   "source": [
    "**Creating addBook() method**\n",
    "* The next step is to create a method that will help us add the book to the book list available in the library.\n",
    "* As we know, the available books in the library are stored in the booksList attribute, we can simply accept the name of the book to add and append that to the booksList.\n",
    "* That's quite simple. Also, as you can see, before we append the book to the list, we check whether it already exists in the list using the membership operator \"in\" and handle it accordingly."
   ]
  },
  {
   "cell_type": "code",
   "execution_count": 71,
   "id": "953d4de6-e023-4d4b-af82-e2d810d4ef02",
   "metadata": {},
   "outputs": [],
   "source": [
    "def addBook (self, book):\n",
    "    if book in booksList:\n",
    "        print('Book already exists')\n",
    "    else:\n",
    "        self.booksList.append(book)\n",
    "        print('Book added')"
   ]
  },
  {
   "cell_type": "markdown",
   "id": "0500f50c-2b54-4781-9c70-79ba59b41254",
   "metadata": {},
   "source": [
    "**Creating lendBook() method**\n",
    "* One of the main functionalities of our library management system would be to keep a record of the books borrowed by the students/consumers.\n",
    "* As we have already created an empty dictionary in the constructor, we would simply accept the name of the lender and the name of the book as the function parameter and add that key-value pair to the dictionary."
   ]
  },
  {
   "cell_type": "code",
   "execution_count": 76,
   "id": "4f5b6744-a5f8-4607-9393-9b2830b5168f",
   "metadata": {},
   "outputs": [],
   "source": [
    "def lendBook (self, book, user):\n",
    "    if book in booksList:\n",
    "        if book not in self.lendDict.keys():\n",
    "            self.lendDict.update({book: user})\n",
    "            print('Book has been lended. Database updated.')\n",
    "        else:\n",
    "            print(f'Book is already being used by [self.lendDict[book]]')\n",
    "    else:\n",
    "        print(\"Apologies! We don't have this book in our library\")"
   ]
  },
  {
   "cell_type": "markdown",
   "id": "cbc2f552-cb45-4689-a899-9bf45e55855e",
   "metadata": {},
   "source": [
    "**Above code Explanation**\n",
    "* Here, the name of the book will be the key and the username will be the value in our lend dictionary.\n",
    "* We need to check whether that key-value pair already exists in the dictionary. If yes, this means the book has already been borrowed by someone else and no other can lend the book.\n",
    "* Thus we handle that using the if-else.\n",
    "* If the book name, that is the key, is not there in the dictionary, only then the book can be borrowed.\n",
    "* Thus we simply use the update method and add the key-value pair to the dictionary and print a simple message."
   ]
  },
  {
   "cell_type": "markdown",
   "id": "21965b0d-80ce-4266-82be-9968bf85cda3",
   "metadata": {},
   "source": [
    "**Creating returnBook() method**\n",
    "* The final step is to create the returnBook() method. The logic is pretty simple, we will accept the name of the book that needs to be returned as the parameter.\n",
    "* As we know, the name of the book is the key in our dictionary, we simply pop out the element (key-value pair) with the given key as the book name.\n",
    "* pop() method removes & returns element from dictionary having given key."
   ]
  },
  {
   "cell_type": "code",
   "execution_count": 82,
   "id": "4b64cae6-c80f-43f9-b4d2-2f18018167fe",
   "metadata": {},
   "outputs": [],
   "source": [
    "def returnBook (self, book):\n",
    "    if book in self.lendDict.keys():\n",
    "        self.lendDict.pop(book)\n",
    "        print('Book Returned Successfully')\n",
    "    else:\n",
    "        print('The book does not exist in the Book Lending Database')"
   ]
  },
  {
   "cell_type": "code",
   "execution_count": 84,
   "id": "a9a936d1-d89a-4309-b475-1f7bc0644534",
   "metadata": {},
   "outputs": [],
   "source": [
    "# Whole Library Class\n",
    "class Library:\n",
    "    def _init__(self, bookslist, name):\n",
    "        self.booksList = bookslist\n",
    "        self.name = name\n",
    "        self.lendDict = {}\n",
    "\n",
    "def displayBooks (self):\n",
    "    print(f'We have following books in our library: {self.name}')\n",
    "    for book in self.booksList:\n",
    "        print(book)\n",
    "\n",
    "def addBook (self, book):\n",
    "    if book in booksList:\n",
    "        print('Book already exists')\n",
    "    else:\n",
    "        self.booksList.append(book)\n",
    "        print('Book added')\n",
    "\n",
    "def lendBook (self, book, user):\n",
    "    if book in booksList:\n",
    "        if book not in self.lendDict.keys():\n",
    "            self.lendDict.update({book: user})\n",
    "            print('Book has been lended. Database updated.')\n",
    "        else:\n",
    "            print(f'Book is already being used by [self.lendDict[book]]')\n",
    "    else:\n",
    "        print(\"Apologies! We don't have this book in our library\")\n",
    "\n",
    "def returnBook (self, book):\n",
    "    if book in self.lendDict.keys():\n",
    "        self.lendDict.pop(book)\n",
    "        print('Book Returned Successfully')\n",
    "    else:\n",
    "        print('The book does not exist in the Book Lending Database')"
   ]
  },
  {
   "cell_type": "markdown",
   "id": "3c31dbf1-f776-4c13-9d4b-f55bd460e262",
   "metadata": {},
   "source": [
    "# 3) Developing the Menu\n",
    "**Menu**\n",
    "* We are done with the main part of our application.\n",
    "* Now, simply we need to create the menu and accept the input from the user, and depending upon that, make the call to the respective method.\n",
    "* Remember that, since these methods are inside the class, we will need the object to access them.\n",
    "*  We will have a loop that will run until the user breaks it.\n",
    "* Until then, we will keep accepting the input from the application's user."
   ]
  },
  {
   "cell_type": "code",
   "execution_count": 30,
   "id": "f1c13ec9-373e-4ad4-b571-c78f1d84ad2a",
   "metadata": {},
   "outputs": [],
   "source": [
    "def main():\n",
    "    while(True):\n",
    "        print(f'Welcome to the (library.name) library. Following are the options,')\n",
    "        choice = \"\"\"\n",
    "        1. Display Books\n",
    "        2. Lend a Book\n",
    "        3. Add a Book\n",
    "        4. Return a Book\n",
    "        \"\"\"\n",
    "        print(choice)\n",
    "      \n",
    "        userInput = input('Press Q to quit and C to continue:')\n",
    "        if userInput == 'C':\n",
    "            userChoice = int(input('Select an option to continue:'))\n",
    "            if userChoice == 1:\n",
    "                library.displayBooks()\n",
    "\n",
    "            elif userChoice == 2:\n",
    "                book = input('Enter the name of the book you want to lend:')\n",
    "                user = input('Enter the name of the user:')\n",
    "                library.lendBook(book, user)\n",
    "\n",
    "            elif userChoice == 3:\n",
    "                book = input('Enter the name of the book you want to add:')\n",
    "                library.addBook(book)\n",
    "\n",
    "            elif userChoice == 4:\n",
    "                book = input('Enter the name of the book you want to return:')\n",
    "                library.returnBook(book)\n",
    "\n",
    "            else:\n",
    "                print('Please choose a valid option')\n",
    "\n",
    "        elif userInput == 'Q':\n",
    "            break\n",
    "            \n",
    "        else:\n",
    "            print('Please enter a valid option')\n"
   ]
  },
  {
   "cell_type": "markdown",
   "id": "9729c9eb-ce51-45f9-b0d9-3ab4a31438a5",
   "metadata": {},
   "source": [
    "**Diving Deep**\n",
    "* One thing to notice here is that we have wrapped the whole part of a code inside a method which we have given the name as main().\n",
    "* This method will be outside the Library class.\n",
    "* Here we've just created the menu and accepted the input, depending upon that, we perform the respective action.\n",
    "* At this stage of the course and with Project One done, this part of the code should be quite easy for you to understand.\n",
    "* Note that, we have used the syntax - library.methodName to make the calls to the required method.\n",
    "* As mentioned before, the library is the object of the class Library which we will create in the later part of the code"
   ]
  },
  {
   "cell_type": "markdown",
   "id": "8a75522b-8f04-4f5b-a611-db979b992984",
   "metadata": {},
   "source": [
    "# 3) Our Database\n",
    "**#What is a database?**\n",
    "* In simple words, a database is a systematic collection of data that helps us store and manipulate data.\n",
    "* As we know, the database is the heart of any kind of application, be it a simple mobile application or a full-fledged application like Facebook or Amazon.\n",
    "* We will try to implement our project - Library Management App with the help of a database that will have all the data of books available in a particular library.\n",
    "\n",
    "**File**\n",
    "* So far we haven't worked with databases in Python. But, we have worked with file handling in Python and we know how to read and write data from a text file.\n",
    "* So, we will use a text file that will contain all the books available in a library and we will treat it as our database."
   ]
  },
  {
   "cell_type": "code",
   "execution_count": 3,
   "id": "7630a69b-9744-46ad-a4a6-17569b73fdbb",
   "metadata": {},
   "outputs": [
    {
     "name": "stdout",
     "output_type": "stream",
     "text": [
      "Physics\n",
      "Maths\n",
      "History\n",
      "Python\n",
      "Science\n",
      "\n"
     ]
    }
   ],
   "source": [
    "# List of books\n",
    "books = [\"Physics\", \"Maths\", \"History\", \"Python\", \"Science\"]\n",
    "\n",
    "# Open the file in write mode\n",
    "with open('pythonxDatabase.txt', 'w') as file:\n",
    "    for book in books:\n",
    "        file.write(book + '\\n')\n",
    "\n",
    "# Read and print the contents of the file\n",
    "with open('pythonxDatabase.txt', 'r') as file:\n",
    "    content = file.read()\n",
    "    print(content)\n"
   ]
  },
  {
   "cell_type": "markdown",
   "id": "d1a09fda-1535-4b46-a86e-37a0d7e2c2de",
   "metadata": {},
   "source": [
    "# 4) Working with Main\n",
    "* We are almost done with our project! Now the final part is to fetch the names of the books from our database text file and create a booksList.\n",
    "* Once that is done, we can create the object and start the execution.\n",
    "* As we have seen in the previous chapter, the menu has been wrapped in the main() method from where the execution must start.\n",
    "* After creating the library object, we will have to make a call for the main() method.\n",
    "* Sounds confusing? Let's look at the code itself to flush out any concerns.\n",
    "* If you have worked with any other programming languages like C, Java, C++, etc. you probably know what is the main() method.\n",
    "* The main() method is an entry point of a program.\n",
    "* However, there is nothing such as main() in Python.\n",
    "* Since there is no main() function in Python, when the command to run a Python program is given to the interpreter, the code will be executed from top to bottom."
   ]
  },
  {
   "cell_type": "code",
   "execution_count": 2,
   "id": "32d09095-52b5-450a-ba2b-43a196117cd1",
   "metadata": {},
   "outputs": [],
   "source": [
    "if __name__ =='main':\n",
    "    booksList = []\n",
    "    databaseName = input('Enter the name of the database file with extension:')\n",
    "    bookDatabase = open(databaseName, 'r')\n",
    "    for book in bookDatabase:\n",
    "        booksList.append(book)\n",
    "        library = Library (booksList, 'PythonX')\n",
    "        main()"
   ]
  },
  {
   "cell_type": "markdown",
   "id": "c944ba61-47cb-4823-8e3d-79ac5dcd50d2",
   "metadata": {},
   "source": [
    "#**Lets explain following code**\n",
    "* **`if __ name __ =='main':`**\n",
    "* Since there are different structures in our program such as the Library class, a method called main(), and so on, the execution of the program from top to bottom won't be a good idea.\n",
    "* Thus, we can create an entry point like the main method using a special variable called name.\n",
    "* The name variable (two underscores before and after) is a special Python variable.It gets its value depending on how we execute the containing script.\n",
    "* When you run your script, the _name_variable always equals _main. We can then use this as a condition so that the code execution will start from that particular code block."
   ]
  },
  {
   "cell_type": "markdown",
   "id": "2aa54738-8e41-4305-a0f3-ed2cbcb67cf6",
   "metadata": {},
   "source": [
    "#Above full code explanation\n",
    "* Here, we define an empty list to store the names of the books that we will fetch from the database file. Then we accept the name of the file from the user and read the contents and append the names to the list one by one.\n",
    "* Finally, we create the object of the Library class and pass the book list that we have created along with the name of the library.\n",
    "* In the end, we make the call to a main() function that displays the menu and starts the program execution."
   ]
  },
  {
   "cell_type": "markdown",
   "id": "c845bb28-3f67-4a9b-b938-c0a0299100ca",
   "metadata": {},
   "source": [
    "**A Small Change**\n",
    "* As we have seen we are using a text file as the database here, when we add a new book using the menu option, we not only need to update the bookslist but also update the new book name in the database file.\n",
    "* Therefore, we will need to update our addBook() method as shown below,\n",
    "* We simply open the database file in the append mode and add the name of the book to the database file."
   ]
  },
  {
   "cell_type": "code",
   "execution_count": 6,
   "id": "4a805f97-0bb7-4581-b4af-a9d1258a07bc",
   "metadata": {},
   "outputs": [],
   "source": [
    "def addBook (self, book):\n",
    "    if book in booksList:\n",
    "        print('Book already exists')\n",
    "    else:\n",
    "        self.booksList.append(book)\n",
    "        bookDatabase = open(databaseName, 'a')\n",
    "        bookDatabase.write('\\n')\n",
    "    #Get to a new line in the text file\n",
    "        bookDatabase.write(book)\n",
    "        print('Book added')"
   ]
  },
  {
   "cell_type": "code",
   "execution_count": 1,
   "id": "8b3c6a8c-23b9-4257-b99e-a4f45c86d6c1",
   "metadata": {},
   "outputs": [
    {
     "name": "stdin",
     "output_type": "stream",
     "text": [
      "Enter the name of the database file with extension: pythonxDatabase.txt\n"
     ]
    },
    {
     "name": "stdout",
     "output_type": "stream",
     "text": [
      "Welcome to the PythonX library. Following are the options,\n",
      " \n",
      "        1. Display Books\n",
      "        2. Lend a Book\n",
      "        3. Add a Book\n",
      "        4. Return a Book\n",
      "        \n"
     ]
    },
    {
     "name": "stdin",
     "output_type": "stream",
     "text": [
      "Press Q to quit and C to continue: 1\n"
     ]
    },
    {
     "name": "stdout",
     "output_type": "stream",
     "text": [
      "Please enter a valid option\n",
      "Welcome to the PythonX library. Following are the options,\n",
      " \n",
      "        1. Display Books\n",
      "        2. Lend a Book\n",
      "        3. Add a Book\n",
      "        4. Return a Book\n",
      "        \n"
     ]
    },
    {
     "name": "stdin",
     "output_type": "stream",
     "text": [
      "Press Q to quit and C to continue: C\n",
      "Select an option to continue: 1\n"
     ]
    },
    {
     "name": "stdout",
     "output_type": "stream",
     "text": [
      "We have following books in our library: PythonX\n",
      "Physics\n",
      "Maths\n",
      "History\n",
      "Python\n",
      "Science\n",
      "Welcome to the PythonX library. Following are the options,\n",
      " \n",
      "        1. Display Books\n",
      "        2. Lend a Book\n",
      "        3. Add a Book\n",
      "        4. Return a Book\n",
      "        \n"
     ]
    },
    {
     "name": "stdin",
     "output_type": "stream",
     "text": [
      "Press Q to quit and C to continue: C\n",
      "Select an option to continue: 2\n",
      "Enter the name of the book you want to lend: Maths\n",
      "Enter the name of the user: Ram\n"
     ]
    },
    {
     "name": "stdout",
     "output_type": "stream",
     "text": [
      "Book has been lended. Database updated.\n",
      "Welcome to the PythonX library. Following are the options,\n",
      " \n",
      "        1. Display Books\n",
      "        2. Lend a Book\n",
      "        3. Add a Book\n",
      "        4. Return a Book\n",
      "        \n"
     ]
    },
    {
     "name": "stdin",
     "output_type": "stream",
     "text": [
      "Press Q to quit and C to continue: C\n",
      "Select an option to continue: 4\n",
      "Enter the name of the book you want to return: Maths\n"
     ]
    },
    {
     "name": "stdout",
     "output_type": "stream",
     "text": [
      "Book Returned Successfully\n",
      "Welcome to the PythonX library. Following are the options,\n",
      " \n",
      "        1. Display Books\n",
      "        2. Lend a Book\n",
      "        3. Add a Book\n",
      "        4. Return a Book\n",
      "        \n"
     ]
    },
    {
     "name": "stdin",
     "output_type": "stream",
     "text": [
      "Press Q to quit and C to continue: Q\n"
     ]
    },
    {
     "name": "stdout",
     "output_type": "stream",
     "text": [
      "Physics\n",
      "Maths\n",
      "History\n",
      "Python\n",
      "Science\n",
      "\n"
     ]
    }
   ],
   "source": [
    "class Library:\n",
    "    def __init__(self, bookslist, name):  # Here, name is the library name\n",
    "        self.booksList = bookslist\n",
    "        self.name = name\n",
    "        self.lendDict = {}\n",
    "\n",
    "    def displayBooks(self):\n",
    "        print(f\"We have following books in our library: {self.name}\")\n",
    "        for book in self.booksList:\n",
    "            print(book)\n",
    "\n",
    "    def lendBook(self, book, user):\n",
    "        if book in self.booksList:\n",
    "            if book not in self.lendDict.keys():\n",
    "                self.lendDict.update({book: user})\n",
    "                print(\"Book has been lended. Database updated.\")\n",
    "            else:\n",
    "                print(f\"Book is already being used by {self.lendDict[book]}\")\n",
    "        else:\n",
    "            print(\"Apologies! We don't have this book in our library\")\n",
    "\n",
    "    def addBook(self, book):\n",
    "        if book in self.booksList:\n",
    "            print(\"Book already exists\")\n",
    "        else:\n",
    "            self.booksList.append(book)\n",
    "            with open(databaseName, \"a\") as bookDatabase:\n",
    "                bookDatabase.write(\"\\n\")\n",
    "                bookDatabase.write(book)\n",
    "            print(\"Book added\")\n",
    "\n",
    "    def returnBook(self, book):\n",
    "        if book in self.lendDict.keys():\n",
    "            self.lendDict.pop(book)\n",
    "            print(\"Book Returned Successfully\")\n",
    "        else:\n",
    "            print(\"The book does not exist in the Book Lending Database\")\n",
    "\n",
    "\n",
    "def main():\n",
    "    while(True):\n",
    "        print(f\"Welcome to the {library.name} library. Following are the options,\")\n",
    "        choice = \"\"\" \n",
    "        1. Display Books\n",
    "        2. Lend a Book\n",
    "        3. Add a Book\n",
    "        4. Return a Book\n",
    "        \"\"\"\n",
    "        print(choice)\n",
    "\n",
    "        userInput = input(\"Press Q to quit and C to continue:\")\n",
    "        if userInput == \"C\":\n",
    "            userChoice = int(input(\"Select an option to continue:\"))\n",
    "            if userChoice == 1:\n",
    "                library.displayBooks()\n",
    "\n",
    "            elif userChoice == 2:\n",
    "                book = input(\"Enter the name of the book you want to lend:\")\n",
    "                user = input(\"Enter the name of the user:\")\n",
    "                library.lendBook(book, user)\n",
    "\n",
    "            elif userChoice == 3:\n",
    "                book = input(\"Enter the name of the book you want to add:\")\n",
    "                library.addBook(book)\n",
    "\n",
    "            elif userChoice == 4:\n",
    "                book = input(\"Enter the name of the book you want to return:\")\n",
    "                library.returnBook(book)\n",
    "\n",
    "            else:\n",
    "                print(\"Please choose a valid option\")\n",
    "\n",
    "        elif userInput == \"Q\":\n",
    "            break\n",
    "\n",
    "        else:\n",
    "            print(\"Please enter a valid option\")\n",
    "\n",
    "\n",
    "if __name__ == '__main__':\n",
    "    booksList = []\n",
    "    databaseName = input(\"Enter the name of the database file with extension:\")\n",
    "    with open(databaseName, \"r\") as bookDatabase:\n",
    "        for book in bookDatabase:\n",
    "            booksList.append(book.strip())\n",
    "    library = Library(booksList, \"PythonX\")\n",
    "    main()"
   ]
  },
  {
   "cell_type": "markdown",
   "id": "d113e0fd-0d39-486b-b3d2-d8d9f65b7837",
   "metadata": {},
   "source": [
    "## OOP\n",
    "* As we know, OOP is a quite powerful programming paradigm. But, what are the benefits of using OOP? What can we conclude from this project where we implemented OOP?\n",
    "* Following are the two important benefits that you should know,\n",
    "* **Encapsulation** - As we know, encapsulation is basically hiding the implementation part altogether as a single unit. If you can recall, in our previous project, we had individual methods for each functionality. But in this project, all the methods are encapsulated as a single unit in a class. This makes our project easy to maintain and understand.\n",
    "* **Reusability** - Since the beginning of OOP, we have learned that OOP helps in code reusability. But how exactly? Our project can be used by any library without making any • changes or customization. You just need to create a new object with the respective name of the library and the database. That's it! And you can implement it for any library with just a new object."
   ]
  },
  {
   "cell_type": "code",
   "execution_count": null,
   "id": "79905fd9-2394-4d00-af8a-e965e1dedb76",
   "metadata": {},
   "outputs": [],
   "source": []
  }
 ],
 "metadata": {
  "kernelspec": {
   "display_name": "Python 3 (ipykernel)",
   "language": "python",
   "name": "python3"
  },
  "language_info": {
   "codemirror_mode": {
    "name": "ipython",
    "version": 3
   },
   "file_extension": ".py",
   "mimetype": "text/x-python",
   "name": "python",
   "nbconvert_exporter": "python",
   "pygments_lexer": "ipython3",
   "version": "3.12.4"
  }
 },
 "nbformat": 4,
 "nbformat_minor": 5
}
