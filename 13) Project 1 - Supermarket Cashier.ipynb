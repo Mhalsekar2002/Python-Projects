{
 "cells": [
  {
   "attachments": {
    "59b7a2f3-97f7-42ce-9ec6-5c51d6f41b6c.jpg": {
     "image/jpeg": "[encoded data removed]"
    }
   },
   "cell_type": "markdown",
   "id": "792b4194-9446-40a0-b13c-d5a087e5158a",
   "metadata": {},
   "source": [
    "![WhatsApp Image 2024-11-25 at 15.52.44_b4759edc.jpg](attachment:59b7a2f3-97f7-42ce-9ec6-5c51d6f41b6c.jpg)"
   ]
  },
  {
   "cell_type": "markdown",
   "id": "b965a646-b03f-4e82-82fd-8f65f656b340",
   "metadata": {},
   "source": [
    "Let's have a look at how the flow of our project would look like,\n",
    "\n",
    "* The very first step will be to accept the name of the product purchased by the consumer and the quantity of the purchased product.\n",
    "* The above process has to be done repeatedly until all the products are entered.\n",
    "* Once we have accepted the products and the quantity, we will accept the consumer's supermarket membership. Depending on the type of membership, we      will give a discount.\n",
    "* We will have three memberships namely Gold, Silver and Bronze with a discount of 20%, 10%, and 5% respectively.\n",
    "* Finally, we will calculate the total bill amount depending upon the price of the products and print the detailed bill to the output screen."
   ]
  },
  {
   "cell_type": "markdown",
   "id": "31effe3e-0114-4e12-95ec-e671ea4c7144",
   "metadata": {},
   "source": [
    "# 1st Entering Products"
   ]
  },
  {
   "cell_type": "markdown",
   "id": "716f5394-596e-4aa9-b4d7-050056e78db2",
   "metadata": {},
   "source": [
    "**Accept Products**\n",
    "* Lets create a simple function enterProducts() which will accept two things from user:-\n",
    "* The name of Product\n",
    "* Quantity of Product\n",
    "* Note that, we will need these two attributes and since they are directly connected to each other we will need a data structure that can store both,     the name and its corresponding quantity.\n",
    "* Therefore, we will accept these two things and store them in a 'dictionary' where the name of the product will be the key and quantity will be its      value"
   ]
  },
  {
   "cell_type": "markdown",
   "id": "e9254b78-2b6c-4342-b553-6368e0bf633d",
   "metadata": {},
   "source": [
    "**Repeat the Process**\n",
    "* Well, the number of items purchased by the consumer won't be fixed, therefore we will need to repeat the above procedure until we are done entering     all the product details.\n",
    "* Since the number of products is not fixed, we are unsure of how many times this process needs to be repeated.\n",
    "* As we have learned, when the number of iterations is not fixed, we can use a while loop\n",
    "* Thus, we will use a while loop and accept the product details."
   ]
  },
  {
   "cell_type": "code",
   "execution_count": 5,
   "id": "4a386ed7-a664-4d6d-87de-1d8948c9f1b2",
   "metadata": {},
   "outputs": [],
   "source": [
    "#Code Part 1\n",
    "def enterProducts():\n",
    "    buyingData = {}\n",
    "    enterDetails = True\n",
    "    while enterDetails:\n",
    "        details = input(\"Press A to add product and Q to quit: \")\n",
    "#Code Part 2\n",
    "        if details == \"A\":\n",
    "            product = input(\"Enter product: \")\n",
    "            quantity = int(input(\"Enter quantity: \"))\n",
    "            buyingData.update({product: quantity})\n",
    "        elif details == \"Q\":\n",
    "            enterDetails = False\n",
    "        else:\n",
    "            print(\"Please select a correct option\")\n",
    "    return buyingData"
   ]
  },
  {
   "cell_type": "markdown",
   "id": "196cf39c-cea3-4e10-92f9-5be7b7221b94",
   "metadata": {},
   "source": [
    "# Code Part 1 Explanation\n",
    "\n",
    "Here,\n",
    "* enterProducts() is the name of the function and it does not take any parameters.\n",
    "* As we know, we need to store the product name and quantity in a dictionary, thus we define a dictionary that will be initially empty.\n",
    "* Next, we define a looping variable 'enterDetails' which will be set to True initially.\n",
    "* This is required because we want the loop to at least run once and prompt the user to input some data.\n",
    "* As we have discussed, the number of iterations is not known, thus, we will use a while loop with the loop variable 'enterDetails'. This loop will       run until the value of the variable 'enterDetails' becomes False.\n",
    "* Finally, we ask the cashier to enter 'A' to add product or 'Q' to quit. Understand that, until the input from the cashier is 'A' we need to accept      the product details and the loop will keep on running. If the cashier enters 'Q' we will make the value of the variable 'enter Details' as False and    we will break out of the loop.\n",
    "#Note: This is the most common way of using a while loop. It goes like\n",
    "* Before the start of the loop we create a flag • variable (enterDetails) and give it a default value (True).\n",
    "* Inside the loop block, depending on the requirements we change this flag variable's value to decide whether to continue with the loop or come out of    it.\n",
    "\n",
    "#Warning: Do not forget to change the flag variable inside the loop block depending on certain conditions. If not done, we risk our code to go in an     indefinite (infinite) loop.\n",
    "\n",
    "# Code Part 2 Explanation\n",
    "Here,\n",
    "* As we have discussed, if the input from the cashier is 'A' we need to accept the product details, else will need to break the loop. Thus, we use the   concept of conditional statements that will help us to make the decision.\n",
    "* We compare the cashier input using the '==' operator. If it's 'A', then we define two variables and accept the product name and the quantity. Note    that the quantity has to be a numeric (integer) value.\n",
    "* Once we have the details, we need to add them to the dictionary. We can use the update() method which will add a new key-value pair in the dictionary.\n",
    "* Also, we will need to check if the cashier input is 'Q'. If the input is 'Q', then as discussed we will update the value of the variable                'enterDetails' to False which will eventually break the loop.\n",
    "* Finally, we need to handle the situation where the cashier fails to enter either of the values between 'A' and 'Q' with a simple error message.\n",
    "* It is always important to think ahead and add certain data validation techniques, just like the one mentioned above. A cashier might put a wrong entry by mistake and if our code is not ready to handle such a scenario, it may create a really loooooong queue at that cashier desk.\n",
    "* In the end, when the whole iteration is done, we will need to return the dictionary which contains the product and the product quantity purchased by the user.\n",
    "\n",
    "#That's it! Our enter Products () function with the functionality to accept the details is ready."
   ]
  },
  {
   "cell_type": "markdown",
   "id": "8e1669bc-65b5-48d9-8205-247d0911422c",
   "metadata": {},
   "source": [
    "# 2nd Calculating Price\n",
    "Let's create a simple function getPrice() which will have two parameters, the product, and the quantity\n",
    "* We already have the product details that we accepted in the last part, we will simply pass those to this function. We will make sure to send the product detail and quantity separately.\n",
    "* Also, we will need a 'predefined dictionary. that will contain the product name as the key and the price of that product in dollars as the value.\n",
    "* Since we will have the price of each product with the help of the predefined dictionary, we will simply calculate the 'subtotal'."
   ]
  },
  {
   "cell_type": "code",
   "execution_count": 14,
   "id": "e29e1467-7af0-4a19-afd8-601e38ee37b8",
   "metadata": {},
   "outputs": [],
   "source": [
    "#Code Part 1\n",
    "def getPrice(product, quantity):\n",
    "    priceData = {\n",
    "        'Biscuit': 3,\n",
    "        'Chicken': 5,\n",
    "        'Egg': 1,\n",
    "        'Fish': 3,\n",
    "        'Coke': 2,\n",
    "        'Bread': 2,\n",
    "        'Apple': 3,\n",
    "        'Onion': 3\n",
    "    }\n",
    "#Code Part 2    \n",
    "    subtotal = priceData[product] * quantity\n",
    "    print(product + ':$' +\n",
    "          str(priceData[product]) + 'x' + str(quantity) + '=' + str(subtotal))\n",
    "    return subtotal"
   ]
  },
  {
   "cell_type": "markdown",
   "id": "a9785748-ee2c-4d9f-875f-660392104623",
   "metadata": {},
   "source": [
    "# Code Part 1 Explanation\n",
    "* We have defined a getPrice (product, quantity) function which accepts two parameters, product that is the product name, and the quantity. This data will come from the return value of the enter Products() function.\n",
    "* Then we define a dictionary and name it as 'priceData' which has the product as the key and has the price of that product as its value.\n",
    "\n",
    "# Code Part 2 Explanation\n",
    "* Once we have defined the dictionary with the • product price, we can use that to find the subtotal.\n",
    "* As we know, the name of the product which will be coming as an argument is the key for the dictionary 'priceData', we can fetch its corresponding value, that is the price of that product with the help of the product name as the key.\n",
    "* Once we have the price, simply we can multiply it with the quantity which will get us the subtotal amount that we will store in the 'subtotal' variable.\n",
    "* Understand that, this will be the subtotal of just one product. Later we will loop through all the products and find the subtotal of all the products purchased.\n",
    "* Finally, we format the data and print it nicely. Some of the data such as price, subtotal, etc are integers. In order to format them and print nicely, we need to typecast them as a string using the str() method.\n",
    "* In the end, we return the subtotal value.\n",
    " \n",
    "#Voila! That's our getPrice() function with the functionality to calculate the raw price of the products purchased by the consumer.\n",
    "\n",
    "#Note: Since we have created this as a function, we will keep calling this for each product bought by the customer. Don't worry, in the next chapter, we will be looking at this soon"
   ]
  },
  {
   "cell_type": "markdown",
   "id": "89df6f32-d637-411a-9fcd-ea9bff82f995",
   "metadata": {},
   "source": [
    "# 3rd Calculating Discount\n",
    "\n",
    "* Let's create a simple function getDiscount() which will have two parameters, the total bill amount and the consumer membership\n",
    "* Also, we will add one more condition that a discount will be given only if the billing amount is greater than $25\n",
    "* That said, since we have the billing amount and the membership coming as the argument, we can simply use the if-else constructs and check for the membership type and give the discount accordingly as we had discussed in the first section,\n",
    "- Gold membership 20% off\n",
    "- Silver membership 10% off\n",
    "- Bronze membership 5% off"
   ]
  },
  {
   "cell_type": "code",
   "execution_count": 18,
   "id": "c9b86a55-a225-4936-9993-51278f6c457c",
   "metadata": {},
   "outputs": [],
   "source": [
    "#Code Part 1\n",
    "def getDiscount(billAmount, membership):\n",
    "    discount = 0\n",
    "    if billAmount >= 25:\n",
    " #Code Part 2       \n",
    "        if membership == 'Gold':\n",
    "            billAmount = billAmount * 0.80\n",
    "            discount = 20\n",
    "        elif membership == 'Silver':\n",
    "            billAmount = billAmount * 0.90\n",
    "            discount = 10\n",
    "        elif membership == 'Bronze':\n",
    "            billAmount = billAmount * 0.95\n",
    "            discount = 5\n",
    "        print(str(discount) + '% off for ' + membership +''+ 'membership on total amount: $' +str(billAmount))\n",
    "#Code Part 3        \n",
    "    else:\n",
    "        print('No discount on amount less than $25')\n",
    "    return billAmount"
   ]
  },
  {
   "cell_type": "markdown",
   "id": "0d2527db-617c-4062-8851-f9dcb852af3f",
   "metadata": {},
   "source": [
    "# Code Part 1 Explanation\n",
    "* We have defined a getDiscount(billAmount,  membership) function which accepts two parameters.\n",
    "* In that, we declare a variable discount and initialize it to zero.\n",
    "* Then we make the check for the discount  condition. If the bill amount is greater than $25, then only we will calculate the discount.\n",
    "                                                                                            \n",
    "# Code Part 2 Explanation\n",
    "* If the bill amount is greater than $25 than we will have a nested if-else where we will check for the type of the membership and accordingly we will calculate the discount and also manipulate the value of the discount variable.\n",
    "* In the end, we will simply print a nice message with the discount given on that particular membership and the total bill amount.\n",
    "\n",
    "# Code Part 3 Explanation\n",
    "* Finally, we need to handle the condition for the outer if where the bill amount is less than $25.\n",
    "* We would simply print a message and in the end, we will return the bill amount.\n",
    "* Done! That's our getDiscount() function with the functionality to calculate the discount for the products purchased by the consumer and give us the final billing amount."
   ]
  },
  {
   "cell_type": "markdown",
   "id": "d8a7ea4e-7441-450e-beb5-e2b8a0a52a0a",
   "metadata": {},
   "source": [
    "# 4th Making Bill"
   ]
  },
  {
   "cell_type": "code",
   "execution_count": 22,
   "id": "8138eccf-e0d6-4663-9e37-79f78fe8a98d",
   "metadata": {},
   "outputs": [],
   "source": [
    "def makeBill(buyingData,membership):\n",
    "    billAmount=0\n",
    "    for key, value in buyingData.items():\n",
    "        billAmount+=getPrice(key,value)\n",
    "        billAmount=getDiscount(billAmount,membership)\n",
    "        print('The discounted amount is $'+str(billAmount))"
   ]
  },
  {
   "cell_type": "markdown",
   "id": "d6afa793-59a2-4273-99d5-7e7ba420229b",
   "metadata": {},
   "source": [
    "**Line 1: def make Bill (buying Data, membership):**\n",
    "* We simply define the method make Bill (buying Data, membership) which will  need two parameters, the first is the dictionary of the products purchased by the consumer and the membership of the consumer.\n",
    "\n",
    "**Line 2: billAmount = 0**\n",
    "* We need to declare and initialize the variable • billAmount which will hold the subtotal amount of the consumer.\n",
    "\n",
    "**Line 3 and 4:**\n",
    "* for key, value in buyingData.items() : This method returns key-value pairs from the buyingData dictionary.The key could be the name or ID of an item, and the value could be the quantity of that item being purchased.\n",
    "* billAmount += getPrice (key, value) : This function presumably calculates the price of the item based on the key (item) and value (quantity).The result of getPrice() (the total price of the item) is added to the billAmount, which keeps a running total of the purchase.\n",
    "\n",
    "**Line 5: billAmount = getDiscount(billAmount, membership)**\n",
    "* Once we have the subtotal of all the products stored in the billAmount variable, we need to deduct the discount amount from it.\n",
    "* Thus, we make a call to the getDiscount() function and pass the total bill amount which • we have calculated and the membership which we have got as an argument to the makeBill() function.\n",
    "* The getDiscount() function returns the final bill amount which we are storing again in the billAmount variable.\n",
    "\n",
    "**Line 6: print('The discounted amount is $' + str(billAmount))**\n",
    "* Finally, we print the calculated bill amount with a nice message as above.\n",
    "* Bravo! That's our makeBill() function with the functionality to generate the bill for the products purchased by the user."
   ]
  },
  {
   "cell_type": "code",
   "execution_count": null,
   "id": "fb1cff17-a899-41af-b3ea-85a2b59e5191",
   "metadata": {},
   "outputs": [],
   "source": [
    "# 5th Boiler Plate\n",
    "def enterProducts():\n",
    "    buyingData = {}\n",
    "\n",
    "buyingData = enterProducts()\n",
    "membership = input(\"Enter customer membership: \")\n",
    "makeBill(buyingData, membership)"
   ]
  },
  {
   "cell_type": "markdown",
   "id": "01fb1eee-15a3-4582-a0a4-6e441fff991c",
   "metadata": {},
   "source": [
    "# Pseudocode"
   ]
  },
  {
   "cell_type": "raw",
   "id": "08f389b3-58be-4a49-b281-cd329d617bb4",
   "metadata": {},
   "source": [
    "def enter Products(): #Function 1\n",
    "# Here we got the Cashier to input all the products bought one by one\n",
    "# We stored all that info in a dictionary called \"buyingData\" and returned it back\n",
    "\n",
    "def getPrice(product, quantity): #Function 2\n",
    "# The job of this function is to give the subtotal of a single product as per its price and quantity mentioned\n",
    "\n",
    "def getDiscount (billAmount, membership): #Function 3\n",
    "# Here, as per the total bill amount we decide the discount is applicable or not\n",
    "\n",
    "def makeBill (buying Data, membership):#Function 4\n",
    "# loop starts:\n",
    "Call Function 2 until subtotal is added for all products within buyingData\n",
    "# loop ends\n",
    "# Call Function 3 to calculate discounted amount\n",
    "\n",
    "# This is the main part of the program which is not inside any function \n",
    "# The first line of execution of code will start from here...\n",
    "\n",
    "buyingData = enterProducts() #Makes call tothe Function 1\n",
    "membership = input('Enter customer membership: ')\n",
    "makeBill (buying Data, membership) #Makes a call to Function 4"
   ]
  },
  {
   "cell_type": "code",
   "execution_count": 1,
   "id": "fd9bcea4-ca3b-4249-a726-8302b69fad41",
   "metadata": {},
   "outputs": [
    {
     "name": "stdin",
     "output_type": "stream",
     "text": [
      "Press A to add product and Q to quit:  A\n",
      "Enter product:  Egg\n",
      "Enter quantity:  12\n",
      "Press A to add product and Q to quit:  A\n",
      "Enter product:  Fish\n",
      "Enter quantity:  21\n",
      "Press A to add product and Q to quit:  Q\n",
      "Enter customer membership:  Gold\n"
     ]
    },
    {
     "name": "stdout",
     "output_type": "stream",
     "text": [
      "Egg:$1x12=12\n",
      "Fish:$3x21=63\n",
      "20% off for Gold membership on  total amount: $60.0\n",
      "The discounted amount is $60.0\n"
     ]
    }
   ],
   "source": [
    "def enterProducts():\n",
    "    buyingData = {}\n",
    "    enterDetails = True\n",
    "    while enterDetails:\n",
    "        details = input(\"Press A to add product and Q to quit: \")\n",
    "        if details == \"A\":\n",
    "            product = input(\"Enter product: \")\n",
    "            quantity = int(input(\"Enter quantity: \"))\n",
    "            buyingData.update({product: quantity})\n",
    "        elif details == \"Q\":\n",
    "            enterDetails = False\n",
    "        else:\n",
    "            print(\"Please select a correct option\")\n",
    "    return buyingData\n",
    "\n",
    "\n",
    "def getPrice(product, quantity):\n",
    "    priceData = {\n",
    "        'Biscuit': 3,\n",
    "        'Chicken': 5,\n",
    "        'Egg': 1,\n",
    "        'Fish': 3,\n",
    "        'Coke': 2,\n",
    "        'Bread': 2,\n",
    "        'Apple': 3,\n",
    "        'Onion': 3\n",
    "    }\n",
    "    subtotal = priceData[product] * quantity\n",
    "    print(product + ':$' +\n",
    "          str(priceData[product]) + 'x' + str(quantity) + '=' + str(subtotal))\n",
    "    return subtotal\n",
    "\n",
    "\n",
    "def getDiscount(billAmount, membership):\n",
    "    discount = 0\n",
    "    if billAmount >= 25:\n",
    "        if membership == 'Gold':\n",
    "            billAmount = billAmount * 0.80\n",
    "            discount = 20\n",
    "        elif membership == 'Silver':\n",
    "            billAmount = billAmount*0.90\n",
    "            discount = 10\n",
    "        elif membership == 'Bronze':\n",
    "            billAmount = billAmount*0.95\n",
    "            discount = 5\n",
    "        print(str(discount) + \"% off for \" + membership +\n",
    "              \" \" + \"membership on  total amount: $\" + str(billAmount))\n",
    "    else:\n",
    "        print(\"No discount on amount less than $25\")\n",
    "    return billAmount\n",
    "\n",
    "\n",
    "def makeBill(buyingData, membership):\n",
    "    billAmount = 0\n",
    "    for key, value in buyingData.items():\n",
    "        billAmount += getPrice(key, value)\n",
    "    billAmount = getDiscount(billAmount, membership)\n",
    "    print(\"The discounted amount is $\" + str(billAmount))\n",
    "\n",
    "\n",
    "buyingData = enterProducts()\n",
    "membership = input(\"Enter customer membership: \")\n",
    "makeBill(buyingData, membership)sil"
   ]
  },
  {
   "cell_type": "code",
   "execution_count": null,
   "id": "939787bc-12d4-4f1a-930e-0aab66313986",
   "metadata": {},
   "outputs": [],
   "source": []
  }
 ],
 "metadata": {
  "kernelspec": {
   "display_name": "Python 3 (ipykernel)",
   "language": "python",
   "name": "python3"
  },
  "language_info": {
   "codemirror_mode": {
    "name": "ipython",
    "version": 3
   },
   "file_extension": ".py",
   "mimetype": "text/x-python",
   "name": "python",
   "nbconvert_exporter": "python",
   "pygments_lexer": "ipython3",
   "version": "3.12.4"
  }
 },
 "nbformat": 4,
 "nbformat_minor": 5
}
